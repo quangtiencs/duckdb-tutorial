{
 "cells": [
  {
   "cell_type": "markdown",
   "id": "87fca27b-5d8e-4ee6-ad0b-a5b303cf5328",
   "metadata": {},
   "source": [
    "- Source code from blog: https://quangtiencs.com/posts/md_notebook/duckdb/\n",
    "- Change printing format for easy-to-read in Jupyter lab."
   ]
  },
  {
   "cell_type": "markdown",
   "id": "ba6933d3-aa8b-4c47-a4f6-60547e004fa9",
   "metadata": {},
   "source": [
    "# 1. Multiple sources and easy to integrate"
   ]
  },
  {
   "cell_type": "code",
   "execution_count": 1,
   "id": "26835c91-152d-4f12-bb59-839f36c4c58b",
   "metadata": {},
   "outputs": [],
   "source": [
    "import duckdb\n",
    "con = duckdb.connect()\n",
    "# con = duckdb.connect(\"duckdb.db\")"
   ]
  },
  {
   "cell_type": "code",
   "execution_count": 2,
   "id": "139448f4-50cb-4127-a6de-eae79ddada2b",
   "metadata": {},
   "outputs": [
    {
     "data": {
      "text/plain": [
       "┌─────────────┬──────────┬────────┬───────────┬───┬───────┬──────────────────┬─────────┬─────────┬──────────┐\n",
       "│ PassengerId │ Survived │ Pclass │   Lname   │ … │ Parch │      Ticket      │  Fare   │  Cabin  │ Embarked │\n",
       "│    int64    │  int64   │ int64  │  varchar  │   │ int64 │     varchar      │ double  │ varchar │ varchar  │\n",
       "├─────────────┼──────────┼────────┼───────────┼───┼───────┼──────────────────┼─────────┼─────────┼──────────┤\n",
       "│           1 │        0 │      3 │ Braund    │ … │     0 │ A/5 21171        │    7.25 │ NULL    │ S        │\n",
       "│           2 │        1 │      1 │ Cumings   │ … │     0 │ PC 17599         │ 71.2833 │ C85     │ C        │\n",
       "│           3 │        1 │      3 │ Heikkinen │ … │     0 │ STON/O2. 3101282 │   7.925 │ NULL    │ S        │\n",
       "│           4 │        1 │      1 │ Futrelle  │ … │     0 │ 113803           │    53.1 │ C123    │ S        │\n",
       "│           5 │        0 │      3 │ Allen     │ … │     0 │ 373450           │    8.05 │ NULL    │ S        │\n",
       "│           6 │        0 │      3 │ Moran     │ … │     0 │ 330877           │  8.4583 │ NULL    │ Q        │\n",
       "│           7 │        0 │      1 │ McCarthy  │ … │     0 │ 17463            │ 51.8625 │ E46     │ S        │\n",
       "├─────────────┴──────────┴────────┴───────────┴───┴───────┴──────────────────┴─────────┴─────────┴──────────┤\n",
       "│ 7 rows                                                                               13 columns (9 shown) │\n",
       "└───────────────────────────────────────────────────────────────────────────────────────────────────────────┘"
      ]
     },
     "execution_count": 2,
     "metadata": {},
     "output_type": "execute_result"
    }
   ],
   "source": [
    "query_result = con.query(\"\"\"\n",
    "CREATE OR REPLACE TABLE titanic AS\n",
    "SELECT * FROM 'titanic.csv';\n",
    "\n",
    "SELECT * \n",
    "FROM titanic\n",
    "LIMIT 7\n",
    "\"\"\")\n",
    "query_result"
   ]
  },
  {
   "cell_type": "code",
   "execution_count": 3,
   "id": "d2ef8b8c-c402-4644-885b-605e82b1b9c3",
   "metadata": {},
   "outputs": [
    {
     "name": "stdout",
     "output_type": "stream",
     "text": [
      "Type: <class 'pandas.core.frame.DataFrame'>\n"
     ]
    }
   ],
   "source": [
    "df = query_result.df()\n",
    "print(f\"Type: {type(df)}\")"
   ]
  },
  {
   "cell_type": "code",
   "execution_count": 4,
   "id": "3ad55a64-3f00-4d7d-b014-6d763481d0a5",
   "metadata": {},
   "outputs": [
    {
     "name": "stdout",
     "output_type": "stream",
     "text": [
      "Shape: (7, 13)\n"
     ]
    }
   ],
   "source": [
    "print(f\"Shape: { df.shape }\")"
   ]
  },
  {
   "cell_type": "markdown",
   "id": "f824785d-4c3c-45df-8f94-39cf7558ad44",
   "metadata": {},
   "source": [
    "# 2. Simplified Pivot Statement"
   ]
  },
  {
   "cell_type": "code",
   "execution_count": 5,
   "id": "43d5d90f-fe89-43d9-b25d-01e993905c93",
   "metadata": {},
   "outputs": [
    {
     "name": "stdout",
     "output_type": "stream",
     "text": [
      "+----+------------+----------+--------+\n",
      "|    |   Survived |   female |   male |\n",
      "|----+------------+----------+--------|\n",
      "|  0 |          0 |       16 |     86 |\n",
      "|  1 |          1 |       40 |     14 |\n",
      "+----+------------+----------+--------+\n"
     ]
    }
   ],
   "source": [
    "pivot_result = con.query(\"\"\"\n",
    "PIVOT titanic ON Sex USING COUNT(*) GROUP BY  Survived\n",
    "\"\"\")\n",
    "\n",
    "print(pivot_result.df().to_markdown(tablefmt='psql'))"
   ]
  },
  {
   "cell_type": "markdown",
   "id": "57215c59-d5af-4726-bc61-dc7c0b401599",
   "metadata": {},
   "source": [
    "# 3. Join syntax is less messy compared with Pandas dataframe"
   ]
  },
  {
   "cell_type": "code",
   "execution_count": 6,
   "id": "27b5bc11-c739-468f-aca2-35526939c6c6",
   "metadata": {},
   "outputs": [
    {
     "data": {
      "text/html": [
       "<div>\n",
       "<style scoped>\n",
       "    .dataframe tbody tr th:only-of-type {\n",
       "        vertical-align: middle;\n",
       "    }\n",
       "\n",
       "    .dataframe tbody tr th {\n",
       "        vertical-align: top;\n",
       "    }\n",
       "\n",
       "    .dataframe thead th {\n",
       "        text-align: right;\n",
       "    }\n",
       "</style>\n",
       "<table border=\"1\" class=\"dataframe\">\n",
       "  <thead>\n",
       "    <tr style=\"text-align: right;\">\n",
       "      <th></th>\n",
       "      <th>key</th>\n",
       "      <th>A</th>\n",
       "      <th>B</th>\n",
       "    </tr>\n",
       "  </thead>\n",
       "  <tbody>\n",
       "    <tr>\n",
       "      <th>0</th>\n",
       "      <td>K0</td>\n",
       "      <td>A0</td>\n",
       "      <td>B0</td>\n",
       "    </tr>\n",
       "    <tr>\n",
       "      <th>1</th>\n",
       "      <td>K1</td>\n",
       "      <td>A1</td>\n",
       "      <td>B1</td>\n",
       "    </tr>\n",
       "    <tr>\n",
       "      <th>2</th>\n",
       "      <td>K2</td>\n",
       "      <td>A2</td>\n",
       "      <td>B2</td>\n",
       "    </tr>\n",
       "    <tr>\n",
       "      <th>3</th>\n",
       "      <td>K3</td>\n",
       "      <td>A3</td>\n",
       "      <td>B3</td>\n",
       "    </tr>\n",
       "  </tbody>\n",
       "</table>\n",
       "</div>"
      ],
      "text/plain": [
       "  key   A   B\n",
       "0  K0  A0  B0\n",
       "1  K1  A1  B1\n",
       "2  K2  A2  B2\n",
       "3  K3  A3  B3"
      ]
     },
     "execution_count": 6,
     "metadata": {},
     "output_type": "execute_result"
    }
   ],
   "source": [
    "import pandas as pd\n",
    "\n",
    "left_df = pd.DataFrame(\n",
    "    {\n",
    "        \"key\": [\"K0\", \"K1\", \"K2\", \"K3\"],\n",
    "        \"A\": [\"A0\", \"A1\", \"A2\", \"A3\"],\n",
    "        \"B\": [\"B0\", \"B1\", \"B2\", \"B3\"],\n",
    "    }\n",
    ")\n",
    "left_df"
   ]
  },
  {
   "cell_type": "code",
   "execution_count": 7,
   "id": "2f167f1d-6227-4c88-8829-2f5a83030c50",
   "metadata": {},
   "outputs": [
    {
     "data": {
      "text/html": [
       "<div>\n",
       "<style scoped>\n",
       "    .dataframe tbody tr th:only-of-type {\n",
       "        vertical-align: middle;\n",
       "    }\n",
       "\n",
       "    .dataframe tbody tr th {\n",
       "        vertical-align: top;\n",
       "    }\n",
       "\n",
       "    .dataframe thead th {\n",
       "        text-align: right;\n",
       "    }\n",
       "</style>\n",
       "<table border=\"1\" class=\"dataframe\">\n",
       "  <thead>\n",
       "    <tr style=\"text-align: right;\">\n",
       "      <th></th>\n",
       "      <th>key</th>\n",
       "      <th>C</th>\n",
       "      <th>D</th>\n",
       "    </tr>\n",
       "  </thead>\n",
       "  <tbody>\n",
       "    <tr>\n",
       "      <th>0</th>\n",
       "      <td>K0</td>\n",
       "      <td>C0</td>\n",
       "      <td>D0</td>\n",
       "    </tr>\n",
       "    <tr>\n",
       "      <th>1</th>\n",
       "      <td>K1</td>\n",
       "      <td>C1</td>\n",
       "      <td>D1</td>\n",
       "    </tr>\n",
       "    <tr>\n",
       "      <th>2</th>\n",
       "      <td>K2</td>\n",
       "      <td>C2</td>\n",
       "      <td>D2</td>\n",
       "    </tr>\n",
       "    <tr>\n",
       "      <th>3</th>\n",
       "      <td>K3</td>\n",
       "      <td>C3</td>\n",
       "      <td>D3</td>\n",
       "    </tr>\n",
       "  </tbody>\n",
       "</table>\n",
       "</div>"
      ],
      "text/plain": [
       "  key   C   D\n",
       "0  K0  C0  D0\n",
       "1  K1  C1  D1\n",
       "2  K2  C2  D2\n",
       "3  K3  C3  D3"
      ]
     },
     "execution_count": 7,
     "metadata": {},
     "output_type": "execute_result"
    }
   ],
   "source": [
    "right_df = pd.DataFrame(\n",
    "    {\n",
    "        \"key\": [\"K0\", \"K1\", \"K2\", \"K3\"],\n",
    "        \"C\": [\"C0\", \"C1\", \"C2\", \"C3\"],\n",
    "        \"D\": [\"D0\", \"D1\", \"D2\", \"D3\"],\n",
    "    }\n",
    ")\n",
    "right_df"
   ]
  },
  {
   "cell_type": "code",
   "execution_count": 8,
   "id": "2db77642-d8de-4e65-96f2-e1c31f462bdc",
   "metadata": {},
   "outputs": [
    {
     "data": {
      "text/html": [
       "<div>\n",
       "<style scoped>\n",
       "    .dataframe tbody tr th:only-of-type {\n",
       "        vertical-align: middle;\n",
       "    }\n",
       "\n",
       "    .dataframe tbody tr th {\n",
       "        vertical-align: top;\n",
       "    }\n",
       "\n",
       "    .dataframe thead th {\n",
       "        text-align: right;\n",
       "    }\n",
       "</style>\n",
       "<table border=\"1\" class=\"dataframe\">\n",
       "  <thead>\n",
       "    <tr style=\"text-align: right;\">\n",
       "      <th></th>\n",
       "      <th>key</th>\n",
       "      <th>A</th>\n",
       "      <th>B</th>\n",
       "      <th>C</th>\n",
       "      <th>D</th>\n",
       "    </tr>\n",
       "  </thead>\n",
       "  <tbody>\n",
       "    <tr>\n",
       "      <th>0</th>\n",
       "      <td>K0</td>\n",
       "      <td>A0</td>\n",
       "      <td>B0</td>\n",
       "      <td>C0</td>\n",
       "      <td>D0</td>\n",
       "    </tr>\n",
       "    <tr>\n",
       "      <th>1</th>\n",
       "      <td>K1</td>\n",
       "      <td>A1</td>\n",
       "      <td>B1</td>\n",
       "      <td>C1</td>\n",
       "      <td>D1</td>\n",
       "    </tr>\n",
       "    <tr>\n",
       "      <th>2</th>\n",
       "      <td>K2</td>\n",
       "      <td>A2</td>\n",
       "      <td>B2</td>\n",
       "      <td>C2</td>\n",
       "      <td>D2</td>\n",
       "    </tr>\n",
       "    <tr>\n",
       "      <th>3</th>\n",
       "      <td>K3</td>\n",
       "      <td>A3</td>\n",
       "      <td>B3</td>\n",
       "      <td>C3</td>\n",
       "      <td>D3</td>\n",
       "    </tr>\n",
       "  </tbody>\n",
       "</table>\n",
       "</div>"
      ],
      "text/plain": [
       "  key   A   B   C   D\n",
       "0  K0  A0  B0  C0  D0\n",
       "1  K1  A1  B1  C1  D1\n",
       "2  K2  A2  B2  C2  D2\n",
       "3  K3  A3  B3  C3  D3"
      ]
     },
     "execution_count": 8,
     "metadata": {},
     "output_type": "execute_result"
    }
   ],
   "source": [
    "pandas_join_result = pd.merge(left_df, right_df, on=\"key\")\n",
    "pandas_join_result"
   ]
  },
  {
   "cell_type": "code",
   "execution_count": 9,
   "id": "02c5541e-4ccb-4e25-9b2b-fafaae1469dd",
   "metadata": {},
   "outputs": [
    {
     "data": {
      "text/plain": [
       "┌─────────┬─────────┬─────────┬─────────┬─────────┬─────────┐\n",
       "│   key   │    A    │    B    │   key   │    C    │    D    │\n",
       "│ varchar │ varchar │ varchar │ varchar │ varchar │ varchar │\n",
       "├─────────┼─────────┼─────────┼─────────┼─────────┼─────────┤\n",
       "│ K0      │ A0      │ B0      │ K0      │ C0      │ D0      │\n",
       "│ K1      │ A1      │ B1      │ K1      │ C1      │ D1      │\n",
       "│ K2      │ A2      │ B2      │ K2      │ C2      │ D2      │\n",
       "│ K3      │ A3      │ B3      │ K3      │ C3      │ D3      │\n",
       "└─────────┴─────────┴─────────┴─────────┴─────────┴─────────┘"
      ]
     },
     "execution_count": 9,
     "metadata": {},
     "output_type": "execute_result"
    }
   ],
   "source": [
    "result = con.query(\"\"\"\n",
    "SELECT *\n",
    "FROM left_df JOIN right_df ON left_df.key=right_df.key\n",
    "\"\"\")\n",
    "\n",
    "result"
   ]
  },
  {
   "cell_type": "markdown",
   "id": "120721f8-f2f0-49a7-a486-426491dedefa",
   "metadata": {},
   "source": [
    "# 4. Geospatial analytics"
   ]
  },
  {
   "cell_type": "code",
   "execution_count": 10,
   "id": "987fd7ca-3e49-457e-90c2-c12230c29692",
   "metadata": {},
   "outputs": [
    {
     "data": {
      "text/plain": [
       "┌───────────┬────────────┬─────────────────────────────────────────────────────────────────────────────────────────────┐\n",
       "│  COUNTRY  │   NAME_1   │                                            geom                                             │\n",
       "│  varchar  │  varchar   │                                          geometry                                           │\n",
       "├───────────┼────────────┼─────────────────────────────────────────────────────────────────────────────────────────────┤\n",
       "│ Singapore │ Central    │ MULTIPOLYGON (((103.8478 1.2222, 103.8489 1.2231, 103.8517 1.2203, 103.8504 1.2141, 103.8…  │\n",
       "│ Singapore │ East       │ MULTIPOLYGON (((104.0242 1.3656, 104.0386 1.3569, 104.0364 1.3533, 104.0333 1.3536, 104.0…  │\n",
       "│ Singapore │ North      │ MULTIPOLYGON (((103.8282 1.3665, 103.8271 1.3627, 103.8251 1.3635, 103.8243 1.3618, 103.8…  │\n",
       "│ Singapore │ North-East │ MULTIPOLYGON (((103.8959 1.3374, 103.8889 1.3336, 103.8851 1.3409, 103.8773 1.3443, 103.8…  │\n",
       "│ Singapore │ West       │ MULTIPOLYGON (((103.7346 1.175, 103.7419 1.1742, 103.7389 1.1664, 103.7336 1.1669, 103.73…  │\n",
       "└───────────┴────────────┴─────────────────────────────────────────────────────────────────────────────────────────────┘"
      ]
     },
     "execution_count": 10,
     "metadata": {},
     "output_type": "execute_result"
    }
   ],
   "source": [
    "con.query(\"\"\"\n",
    "INSTALL spatial;\n",
    "LOAD spatial;\n",
    "\n",
    "CREATE TABLE singapore_geometry AS \n",
    "SELECT * \n",
    "FROM ST_Read('singapore.json');\n",
    "\"\"\")\n",
    "\n",
    "geometry_df = con.query(\"\"\"\n",
    "SELECT COUNTRY, NAME_1, geom\n",
    "FROM singapore_geometry\n",
    "\"\"\")\n",
    "\n",
    "geometry_df"
   ]
  },
  {
   "cell_type": "code",
   "execution_count": 11,
   "id": "fa0b5034-bcaf-45fb-8015-175089620ea4",
   "metadata": {},
   "outputs": [
    {
     "name": "stdout",
     "output_type": "stream",
     "text": [
      "+----+-----------+----------+\n",
      "|    | COUNTRY   | NAME_1   |\n",
      "|----+-----------+----------|\n",
      "|  0 | Singapore | Central  |\n",
      "+----+-----------+----------+\n"
     ]
    }
   ],
   "source": [
    "which_region_df = con.query(\"\"\"\n",
    "SELECT COUNTRY, NAME_1\n",
    "FROM singapore_geometry\n",
    "WHERE ST_Contains(geom, ST_Point(103.7764, 1.2966))\n",
    "\"\"\")\n",
    "print(which_region_df.df().to_markdown(tablefmt='psql'))"
   ]
  },
  {
   "cell_type": "markdown",
   "id": "f18c4f50-daa4-462b-9ade-ac0e7d948d2d",
   "metadata": {},
   "source": [
    "# 5. Benchmark"
   ]
  },
  {
   "cell_type": "markdown",
   "id": "4bb3d9e4-6e43-4260-a780-bbc6344c0e64",
   "metadata": {},
   "source": [
    "There are some benchmarks of Polars and DuckDB:\n",
    "\n",
    "- **DuckDB (database-like ops benchmark):** https://duckdblabs.github.io/db-benchmark/\n",
    "- **Polars (TPCH Benchmark):** https://pola.rs/posts/benchmarks/"
   ]
  }
 ],
 "metadata": {
  "kernelspec": {
   "display_name": "Python 3 (ipykernel)",
   "language": "python",
   "name": "python3"
  },
  "language_info": {
   "codemirror_mode": {
    "name": "ipython",
    "version": 3
   },
   "file_extension": ".py",
   "mimetype": "text/x-python",
   "name": "python",
   "nbconvert_exporter": "python",
   "pygments_lexer": "ipython3",
   "version": "3.11.5"
  }
 },
 "nbformat": 4,
 "nbformat_minor": 5
}
